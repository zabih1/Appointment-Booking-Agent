{
 "cells": [
  {
   "cell_type": "code",
   "execution_count": 28,
   "metadata": {},
   "outputs": [],
   "source": [
    "import streamlit as st\n",
    "import sqlite3\n",
    "import datetime\n",
    "import re\n",
    "import os\n",
    "from datetime import datetime, timedelta\n",
    "import dateparser\n",
    "from langchain_google_genai import ChatGoogleGenerativeAI\n",
    "from langchain.prompts import ChatPromptTemplate, MessagesPlaceholder\n",
    "from langchain.memory import ConversationBufferMemory\n",
    "from langchain.schema import HumanMessage, AIMessage\n",
    "from langchain.chains import LLMChain\n"
   ]
  },
  {
   "cell_type": "code",
   "execution_count": 29,
   "metadata": {},
   "outputs": [],
   "source": [
    "def init_db():\n",
    "    conn = sqlite3.connect('appointments.db')\n",
    "    c = conn.cursor()\n",
    "    \n",
    "    # Check if the table exists\n",
    "    c.execute(\"SELECT name FROM sqlite_master WHERE type='table' AND name='appointments'\")\n",
    "    table_exists = c.fetchone()\n",
    "    \n",
    "    if table_exists:\n",
    "        # Check if email column exists\n",
    "        try:\n",
    "            c.execute(\"SELECT email FROM appointments LIMIT 1\")\n",
    "        except sqlite3.OperationalError:\n",
    "            # Add email column if it doesn't exist\n",
    "            print(\"Adding email column to existing database...\")\n",
    "            c.execute(\"ALTER TABLE appointments ADD COLUMN email TEXT DEFAULT 'no-email@example.com'\")\n",
    "            conn.commit()\n",
    "    else:\n",
    "        # Create new table with email column\n",
    "        c.execute('''\n",
    "        CREATE TABLE appointments\n",
    "        (id INTEGER PRIMARY KEY AUTOINCREMENT,\n",
    "         name TEXT NOT NULL,\n",
    "         email TEXT NOT NULL,\n",
    "         date TEXT NOT NULL,\n",
    "         time TEXT NOT NULL,\n",
    "         purpose TEXT,\n",
    "         created_at TIMESTAMP DEFAULT CURRENT_TIMESTAMP)\n",
    "        ''')\n",
    "        conn.commit()\n",
    "    \n",
    "    conn.close()\n",
    "\n",
    "init_db()\n"
   ]
  },
  {
   "cell_type": "code",
   "execution_count": 30,
   "metadata": {},
   "outputs": [],
   "source": [
    "def add_appointment(name, email, date, time, purpose):\n",
    "    conn = sqlite3.connect('appointments.db')\n",
    "    c = conn.cursor()\n",
    "    c.execute(\"INSERT INTO appointments (name, email, date, time, purpose) VALUES (?, ?, ?, ?, ?)\",\n",
    "              (name, email, date, time, purpose))\n",
    "    conn.commit()\n",
    "    conn.close()\n",
    "\n",
    "def get_appointments(name=None, email=None, date=None):\n",
    "    conn = sqlite3.connect('appointments.db')\n",
    "    c = conn.cursor()\n",
    "    \n",
    "    query = \"SELECT * FROM appointments\"\n",
    "    params = []\n",
    "    \n",
    "    if name and email and date:\n",
    "        query += \" WHERE name = ? AND email = ? AND date = ?\"\n",
    "        params = [name, email, date]\n",
    "    elif name and email:\n",
    "        query += \" WHERE name = ? AND email = ?\"\n",
    "        params = [name, email]\n",
    "    elif name and date:\n",
    "        query += \" WHERE name = ? AND date = ?\"\n",
    "        params = [name, date]\n",
    "    elif email and date:\n",
    "        query += \" WHERE email = ? AND date = ?\"\n",
    "        params = [email, date]\n",
    "    elif name:\n",
    "        query += \" WHERE name = ?\"\n",
    "        params = [name]\n",
    "    elif email:\n",
    "        query += \" WHERE email = ?\"\n",
    "        params = [email]\n",
    "    elif date:\n",
    "        query += \" WHERE date = ?\"\n",
    "        params = [date]\n",
    "    \n",
    "    query += \" ORDER BY date, time\"\n",
    "    \n",
    "    c.execute(query, params)\n",
    "    appointments = c.fetchall()\n",
    "    conn.close()\n",
    "    return appointments\n"
   ]
  },
  {
   "cell_type": "code",
   "execution_count": 31,
   "metadata": {},
   "outputs": [
    {
     "name": "stdout",
     "output_type": "stream",
     "text": [
      "Appointment added successfully!\n"
     ]
    }
   ],
   "source": [
    "add_appointment(\"John Doe\", \"john@example.com\", \"2025-03-20\", \"14:30\", \"Project discussion\")\n",
    "print(\"Appointment added successfully!\")\n"
   ]
  },
  {
   "cell_type": "code",
   "execution_count": 32,
   "metadata": {},
   "outputs": [
    {
     "name": "stdout",
     "output_type": "stream",
     "text": [
      "[(4, 'John Doe', '2025-03-20', '14:30', 'Project discussion', '2025-03-14 06:11:18', 'john@example.com'), (5, 'John Doe', '2025-03-20', '14:30', 'Project discussion', '2025-03-14 08:40:25', 'john@example.com'), (6, 'John Doe', '2025-03-20', '14:30', 'Project discussion', '2025-03-14 08:52:40', 'john@example.com')]\n"
     ]
    }
   ],
   "source": [
    "appointments = get_appointments(name=\"John Doe\")\n",
    "print(appointments)\n"
   ]
  },
  {
   "cell_type": "code",
   "execution_count": 33,
   "metadata": {},
   "outputs": [],
   "source": [
    "def check_appointment_exists(name, email, date, time):\n",
    "    conn = sqlite3.connect('appointments.db')\n",
    "    c = conn.cursor()\n",
    "    \n",
    "    try:\n",
    "        c.execute(\"SELECT * FROM appointments WHERE name = ? AND email = ? AND date = ? AND time = ?\", \n",
    "                (name, email, date, time))\n",
    "        result = c.fetchone()\n",
    "    except sqlite3.OperationalError:\n",
    "        c.execute(\"SELECT * FROM appointments WHERE name = ? AND date = ? AND time = ?\", \n",
    "                (name, date, time))\n",
    "        result = c.fetchone()\n",
    "    \n",
    "    conn.close()\n",
    "    return result is not None\n"
   ]
  },
  {
   "cell_type": "code",
   "execution_count": 34,
   "metadata": {},
   "outputs": [
    {
     "name": "stdout",
     "output_type": "stream",
     "text": [
      "Appointment exists? True\n"
     ]
    }
   ],
   "source": [
    "exists = check_appointment_exists(\"John Doe\", \"john@example.com\", \"2025-03-20\", \"14:30\")\n",
    "print(\"Appointment exists?\" , exists)\n"
   ]
  },
  {
   "cell_type": "code",
   "execution_count": 35,
   "metadata": {},
   "outputs": [],
   "source": [
    "def check_appointment_exists(name, email, date, time):\n",
    "    conn = sqlite3.connect('appointments.db')\n",
    "    c = conn.cursor()\n",
    "    \n",
    "    try:\n",
    "        c.execute(\"SELECT * FROM appointments WHERE name = ? AND email = ? AND date = ? AND time = ?\", \n",
    "                (name, email, date, time))\n",
    "        result = c.fetchone()\n",
    "    except sqlite3.OperationalError:\n",
    "        c.execute(\"SELECT * FROM appointments WHERE name = ? AND date = ? AND time = ?\", \n",
    "                (name, date, time))\n",
    "        result = c.fetchone()\n",
    "    \n",
    "    conn.close()\n",
    "    return result is not None\n"
   ]
  },
  {
   "cell_type": "code",
   "execution_count": 44,
   "metadata": {},
   "outputs": [],
   "source": [
    "def setup_llm():\n",
    "    api_key = os.environ.get('GEMINI_API_KEY')  # Replace with actual key\n",
    "    \n",
    "    if not api_key:\n",
    "        raise ValueError(\"Google API key not found. Set it in your environment variables.\")\n",
    "    \n",
    "    llm = ChatGoogleGenerativeAI(\n",
    "        api_key=api_key,\n",
    "        model=\"gemini-2.0-flash\"\n",
    "    )\n",
    "    \n",
    "    prompt = ChatPromptTemplate.from_messages([\n",
    "        (\"system\", \"\"\"You are an appointment booking assistant. Your task is to:\n",
    "        1. Help users book appointments by extracting name, email, date, time, and purpose.\n",
    "        2. Help users retrieve their appointment information.\n",
    "        3. Respond in a friendly and helpful manner.\n",
    "        \n",
    "        Format your response with JSON-like tags:\n",
    "        <APPOINTMENT_DETAILS>\n",
    "        name: [extracted name]\n",
    "        email: [extracted email]\n",
    "        date: [extracted date in YYYY-MM-DD format]\n",
    "        time: [extracted time in HH:MM format]\n",
    "        purpose: [extracted purpose]\n",
    "        action: [book/retrieve]\n",
    "        </APPOINTMENT_DETAILS>\n",
    "        \"\"\"),\n",
    "        MessagesPlaceholder(variable_name=\"history\"),\n",
    "        (\"human\", \"{input}\")\n",
    "    ])\n",
    "    \n",
    "    memory = ConversationBufferMemory(return_messages=True, input_key=\"input\", memory_key=\"history\")\n",
    "    \n",
    "    chain = LLMChain(\n",
    "        llm=llm,\n",
    "        prompt=prompt,\n",
    "        memory=memory\n",
    "    )\n",
    "    \n",
    "    return chain\n"
   ]
  },
  {
   "cell_type": "code",
   "execution_count": 46,
   "metadata": {},
   "outputs": [
    {
     "data": {
      "text/plain": [
       "{'input': 'tell me about teh services',\n",
       " 'history': [HumanMessage(content='tell me about teh services', additional_kwargs={}, response_metadata={}),\n",
       "  AIMessage(content='I can help you book or retrieve information about appointments. To proceed, could you please specify what you would like to do?', additional_kwargs={}, response_metadata={})],\n",
       " 'text': 'I can help you book or retrieve information about appointments. To proceed, could you please specify what you would like to do?'}"
      ]
     },
     "execution_count": 46,
     "metadata": {},
     "output_type": "execute_result"
    }
   ],
   "source": [
    "llm_chain = setup_llm()\n",
    "llm_chain.invoke(\"tell me about teh services\")"
   ]
  },
  {
   "cell_type": "code",
   "execution_count": 47,
   "metadata": {},
   "outputs": [
    {
     "data": {
      "text/plain": [
       "{'input': 'retrieve information about the appointments',\n",
       " 'history': [HumanMessage(content='tell me about teh services', additional_kwargs={}, response_metadata={}),\n",
       "  AIMessage(content='I can help you book or retrieve information about appointments. To proceed, could you please specify what you would like to do?', additional_kwargs={}, response_metadata={}),\n",
       "  HumanMessage(content='retrieve information about the appointments', additional_kwargs={}, response_metadata={}),\n",
       "  AIMessage(content=\"Okay, I can help with that! To retrieve your appointment information, I'll need your name and email address. Could you please provide those?\", additional_kwargs={}, response_metadata={})],\n",
       " 'text': \"Okay, I can help with that! To retrieve your appointment information, I'll need your name and email address. Could you please provide those?\"}"
      ]
     },
     "execution_count": 47,
     "metadata": {},
     "output_type": "execute_result"
    }
   ],
   "source": [
    "llm_chain.invoke(\"retrieve information about the appointments\")"
   ]
  },
  {
   "cell_type": "code",
   "execution_count": 48,
   "metadata": {},
   "outputs": [
    {
     "data": {
      "text/plain": [
       "{'input': 'my name is zabihullah and email address is zabihullah18381@gmail.com',\n",
       " 'history': [HumanMessage(content='tell me about teh services', additional_kwargs={}, response_metadata={}),\n",
       "  AIMessage(content='I can help you book or retrieve information about appointments. To proceed, could you please specify what you would like to do?', additional_kwargs={}, response_metadata={}),\n",
       "  HumanMessage(content='retrieve information about the appointments', additional_kwargs={}, response_metadata={}),\n",
       "  AIMessage(content=\"Okay, I can help with that! To retrieve your appointment information, I'll need your name and email address. Could you please provide those?\", additional_kwargs={}, response_metadata={}),\n",
       "  HumanMessage(content='my name is zabihullah and email address is zabihullah18381@gmail.com', additional_kwargs={}, response_metadata={}),\n",
       "  AIMessage(content=\"```json\\n<APPOINTMENT_DETAILS>\\nname: zabihullah\\nemail: zabihullah18381@gmail.com\\ndate: null\\ntime: null\\npurpose: null\\naction: retrieve\\n</APPOINTMENT_DETAILS>\\n```\\nI'll retrieve the appointment details for you. Please wait a moment.\", additional_kwargs={}, response_metadata={})],\n",
       " 'text': \"```json\\n<APPOINTMENT_DETAILS>\\nname: zabihullah\\nemail: zabihullah18381@gmail.com\\ndate: null\\ntime: null\\npurpose: null\\naction: retrieve\\n</APPOINTMENT_DETAILS>\\n```\\nI'll retrieve the appointment details for you. Please wait a moment.\"}"
      ]
     },
     "execution_count": 48,
     "metadata": {},
     "output_type": "execute_result"
    }
   ],
   "source": [
    "llm_chain.invoke(\"my name is zabihullah and email address is zabihullah18381@gmail.com\")"
   ]
  },
  {
   "cell_type": "code",
   "execution_count": 38,
   "metadata": {},
   "outputs": [],
   "source": [
    "def extract_appointment_details(response_text):\n",
    "    details_pattern = r'<APPOINTMENT_DETAILS>(.*?)</APPOINTMENT_DETAILS>'\n",
    "    match = re.search(details_pattern, response_text, re.DOTALL)\n",
    "    \n",
    "    if not match:\n",
    "        return None, response_text.strip()\n",
    "    \n",
    "    details_text = match.group(1).strip()\n",
    "    details = {}\n",
    "    \n",
    "    name_match = re.search(r'name:\\s*(.*)', details_text)\n",
    "    email_match = re.search(r'email:\\s*(.*)', details_text)\n",
    "    date_match = re.search(r'date:\\s*(.*)', details_text)\n",
    "    time_match = re.search(r'time:\\s*(.*)', details_text)\n",
    "    purpose_match = re.search(r'purpose:\\s*(.*)', details_text)\n",
    "    action_match = re.search(r'action:\\s*(.*)', details_text)\n",
    "    \n",
    "    if name_match:\n",
    "        details['name'] = name_match.group(1).strip()\n",
    "    if email_match:\n",
    "        details['email'] = email_match.group(1).strip()\n",
    "    if date_match:\n",
    "        date_str = date_match.group(1).strip()\n",
    "        parsed_date = dateparser.parse(date_str)\n",
    "        details['date'] = parsed_date.strftime('%Y-%m-%d') if parsed_date else date_str\n",
    "    if time_match:\n",
    "        details['time'] = time_match.group(1).strip()\n",
    "    if purpose_match:\n",
    "        details['purpose'] = purpose_match.group(1).strip()\n",
    "    if action_match:\n",
    "        details['action'] = action_match.group(1).strip()\n",
    "    \n",
    "    clean_response = re.sub(details_pattern, '', response_text, flags=re.DOTALL).strip()\n",
    "    \n",
    "    return details, clean_response\n"
   ]
  },
  {
   "cell_type": "code",
   "execution_count": 39,
   "metadata": {},
   "outputs": [],
   "source": [
    "def process_message(user_input, llm_chain):\n",
    "    try:\n",
    "        llm_response = llm_chain.invoke({\"input\": user_input})\n",
    "        response_text = llm_response[\"text\"]\n",
    "        details, clean_response = extract_appointment_details(response_text)\n",
    "\n",
    "        if details:\n",
    "            return details\n",
    "        return clean_response\n",
    "    \n",
    "    except Exception as e:\n",
    "        return f\"Error: {str(e)}\"\n"
   ]
  },
  {
   "cell_type": "code",
   "execution_count": 40,
   "metadata": {},
   "outputs": [
    {
     "name": "stdout",
     "output_type": "stream",
     "text": [
      "Error: Missing keys ['session_id'] in config['configurable'] Expected keys are ['session_id'].When using via .invoke() or .stream(), pass in a config; e.g., chain.invoke({'input': 'foo'}, {'configurable': {'session_id': '[your-value-here]'}})\n"
     ]
    }
   ],
   "source": [
    "user_input = \"Book an appointment for John Doe with email john@example.com on March 20, 2025, at 2:30 PM for a project discussion.\"\n",
    "response = process_message(user_input, llm_chain)\n",
    "print(response)\n"
   ]
  },
  {
   "cell_type": "code",
   "execution_count": 41,
   "metadata": {},
   "outputs": [
    {
     "name": "stdout",
     "output_type": "stream",
     "text": [
      "Error: Missing keys ['session_id'] in config['configurable'] Expected keys are ['session_id'].When using via .invoke() or .stream(), pass in a config; e.g., chain.invoke({'input': 'foo'}, {'configurable': {'session_id': '[your-value-here]'}})\n"
     ]
    }
   ],
   "source": [
    "user_input = \"Do I have any appointments on March 20, 2025?\"\n",
    "response = process_message(user_input, llm_chain)\n",
    "print(response)\n"
   ]
  },
  {
   "cell_type": "code",
   "execution_count": null,
   "metadata": {},
   "outputs": [],
   "source": []
  }
 ],
 "metadata": {
  "kernelspec": {
   "display_name": "base",
   "language": "python",
   "name": "python3"
  },
  "language_info": {
   "codemirror_mode": {
    "name": "ipython",
    "version": 3
   },
   "file_extension": ".py",
   "mimetype": "text/x-python",
   "name": "python",
   "nbconvert_exporter": "python",
   "pygments_lexer": "ipython3",
   "version": "3.12.7"
  }
 },
 "nbformat": 4,
 "nbformat_minor": 2
}
