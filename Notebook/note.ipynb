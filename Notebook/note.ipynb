{
 "cells": [
  {
   "cell_type": "code",
   "execution_count": null,
   "metadata": {},
   "outputs": [],
   "source": []
  },
  {
   "cell_type": "code",
   "execution_count": 34,
   "metadata": {},
   "outputs": [],
   "source": [
    "import os\n",
    "from dotenv import load_dotenv\n",
    "\n",
    "load_dotenv()\n",
    "\n",
    "\n",
    "api_key=os.getenv(\"GEMINI_API_KEY\")\n",
    "\n",
    "groq_api = os.getenv(\"GROQ_API_KEY\")\n",
    "\n",
    "openai_api = os.getenv(\"OPENAI_API_KEY\")"
   ]
  },
  {
   "cell_type": "code",
   "execution_count": 36,
   "metadata": {},
   "outputs": [],
   "source": [
    "from langchain.chat_models import init_chat_model\n",
    "from langchain_openai import ChatOpenAI\n",
    "\n",
    "groq_model = init_chat_model(\"llama3-8b-8192\", model_provider=\"groq\")\n",
    "\n",
    "openai_model = ChatOpenAI(model=\"gpt-4o-mini\")"
   ]
  },
  {
   "cell_type": "code",
   "execution_count": null,
   "metadata": {},
   "outputs": [],
   "source": []
  },
  {
   "cell_type": "code",
   "execution_count": 43,
   "metadata": {},
   "outputs": [],
   "source": [
    "from langchain_google_genai import ChatGoogleGenerativeAI\n",
    "from langchain.agents import AgentType, initialize_agent\n",
    "from langchain_community.agent_toolkits import ZapierToolkit\n",
    "from langchain_community.utilities.zapier import ZapierNLAWrapper\n",
    "\n",
    "\n",
    "\n",
    "llm = ChatGoogleGenerativeAI(\n",
    "    api_key = api_key,\n",
    "    model=\"gemini-2.0-flash\"\n",
    ")\n",
    "zapier = ZapierNLAWrapper(zapier_nla_api_key=\"sk-ak-gH0EVb9PZHv4vQaEr3mVBePIs8\")\n",
    "toolkit = ZapierToolkit.from_zapier_nla_wrapper(zapier)\n",
    "agent = initialize_agent(\n",
    "    toolkit.tools, llm, agent=AgentType.ZERO_SHOT_REACT_DESCRIPTION, verbose=True\n",
    ")"
   ]
  },
  {
   "cell_type": "code",
   "execution_count": null,
   "metadata": {},
   "outputs": [],
   "source": [
    "actions = ZapierNLAWrapper(zapier_nla_api_key=\"sk-ak-gH0EVb9PZHv4vQaEr3mVBePIs8\").list()"
   ]
  },
  {
   "cell_type": "code",
   "execution_count": null,
   "metadata": {},
   "outputs": [
    {
     "name": "stdout",
     "output_type": "stream",
     "text": [
      "Available Zapier tools: ['find email']\n"
     ]
    }
   ],
   "source": [
    "\n",
    "\n",
    "# Initialize toolkit\n",
    "toolkit = ZapierToolkit.from_zapier_nla_wrapper(zapier)\n",
    "\n",
    "# Fetch tools\n",
    "tools = toolkit.tools\n",
    "\n",
    "print(f\"Available Zapier tools: {[tool.name for tool in tools]}\")  # Debugging\n"
   ]
  },
  {
   "cell_type": "code",
   "execution_count": 30,
   "metadata": {},
   "outputs": [],
   "source": [
    "from langchain_community.agent_toolkits import ZapierToolkit\n",
    "from langchain_community.utilities.zapier import ZapierNLAWrapper\n",
    "import os\n",
    "from langchain.chains import LLMChain\n",
    "\n",
    "\n",
    "zapier_api_key = \"sk-ak-gH0EVb9PZHv4vQaEr3mVBePIs8\"\n",
    "\n",
    "\n",
    "zapier = ZapierNLAWrapper(zapier_nla_api_key=zapier_api_key)\n",
    "\n",
    "toolkit = ZapierToolkit.from_zapier_nla_wrapper(zapier)\n",
    "\n"
   ]
  },
  {
   "cell_type": "code",
   "execution_count": 50,
   "metadata": {},
   "outputs": [
    {
     "data": {
      "text/plain": [
       "ZapierToolkit(tools=[ZapierNLARunAction(name='find email', description='A wrapper around Zapier NLA actions. The input to this tool is a natural language instruction, for example \"get the latest email from my bank\" or \"send a slack message to the #general channel\". Each tool will have params associated with it that are specified as a list. You MUST take into account the params when creating the instruction. For example, if the params are [\\'Message_Text\\', \\'Channel\\'], your instruction should be something like \\'send a slack message to the #general channel with the text hello world\\'. Another example: if the params are [\\'Calendar\\', \\'Search_Term\\'], your instruction should be something like \\'find the meeting in my personal calendar at 3pm\\'. Do not make up params, they will be explicitly specified in the tool description. If you do not have enough information to fill in the params, just say \\'not enough information provided in the instruction, missing <param>\\'. If you get a none or null response, STOP EXECUTION, do not try to another tool!This tool specifically used for: find email, and has params: [\\'Search_String\\']', api_wrapper=ZapierNLAWrapper(zapier_nla_api_key='sk-ak-gH0EVb9PZHv4vQaEr3mVBePIs8', zapier_nla_oauth_access_token='', zapier_nla_api_base='https://nla.zapier.com/api/v1/'), action_id='15ca0f32-82c7-4373-b477-ce755c4dffa6', zapier_description='find email', params_schema={'Search_String': 'str'})])"
      ]
     },
     "execution_count": 50,
     "metadata": {},
     "output_type": "execute_result"
    }
   ],
   "source": [
    "toolkit"
   ]
  },
  {
   "cell_type": "code",
   "execution_count": 55,
   "metadata": {},
   "outputs": [
    {
     "data": {
      "text/plain": [
       "[{'id': '15ca0f32-82c7-4373-b477-ce755c4dffa6',\n",
       "  'operation_id': 'find_email_4a9b5f1',\n",
       "  'description': 'find email',\n",
       "  'params': {'instructions': 'str', 'Search_String': 'str'}}]"
      ]
     },
     "execution_count": 55,
     "metadata": {},
     "output_type": "execute_result"
    }
   ],
   "source": [
    "action = ZapierNLAWrapper(zapier_nla_api_key=zapier_api_key).list()\n",
    "action\n"
   ]
  },
  {
   "cell_type": "code",
   "execution_count": null,
   "metadata": {},
   "outputs": [],
   "source": []
  },
  {
   "cell_type": "code",
   "execution_count": null,
   "metadata": {},
   "outputs": [],
   "source": [
    "      #Agent Chain\n",
    "agent_chain = initialize_agent(toolkit.tools, llm = openai_model, agent = \"zero-shot-react-description\", verbose = True)\n"
   ]
  },
  {
   "cell_type": "code",
   "execution_count": null,
   "metadata": {},
   "outputs": [
    {
     "data": {
      "text/plain": [
       "AgentExecutor(verbose=True, tags=['zero-shot-react-description'], agent=ZeroShotAgent(llm_chain=LLMChain(verbose=False, prompt=PromptTemplate(input_variables=['agent_scratchpad', 'input'], input_types={}, partial_variables={}, template='Answer the following questions as best you can. You have access to the following tools:\\n\\nfind email - A wrapper around Zapier NLA actions. The input to this tool is a natural language instruction, for example \"get the latest email from my bank\" or \"send a slack message to the #general channel\". Each tool will have params associated with it that are specified as a list. You MUST take into account the params when creating the instruction. For example, if the params are [\\'Message_Text\\', \\'Channel\\'], your instruction should be something like \\'send a slack message to the #general channel with the text hello world\\'. Another example: if the params are [\\'Calendar\\', \\'Search_Term\\'], your instruction should be something like \\'find the meeting in my personal calendar at 3pm\\'. Do not make up params, they will be explicitly specified in the tool description. If you do not have enough information to fill in the params, just say \\'not enough information provided in the instruction, missing <param>\\'. If you get a none or null response, STOP EXECUTION, do not try to another tool!This tool specifically used for: find email, and has params: [\\'Search_String\\']\\n\\nUse the following format:\\n\\nQuestion: the input question you must answer\\nThought: you should always think about what to do\\nAction: the action to take, should be one of [find email]\\nAction Input: the input to the action\\nObservation: the result of the action\\n... (this Thought/Action/Action Input/Observation can repeat N times)\\nThought: I now know the final answer\\nFinal Answer: the final answer to the original input question\\n\\nBegin!\\n\\nQuestion: {input}\\nThought:{agent_scratchpad}'), llm=ChatOpenAI(client=<openai.resources.chat.completions.completions.Completions object at 0x0000018E85C869F0>, async_client=<openai.resources.chat.completions.completions.AsyncCompletions object at 0x0000018E85CA4C80>, root_client=<openai.OpenAI object at 0x0000018E85C74CE0>, root_async_client=<openai.AsyncOpenAI object at 0x0000018E85C86A50>, model_name='gpt-4o-mini', model_kwargs={}, openai_api_key=SecretStr('**********')), output_parser=StrOutputParser(), llm_kwargs={}), output_parser=MRKLOutputParser(), allowed_tools=['find email']), tools=[ZapierNLARunAction(name='find email', description='A wrapper around Zapier NLA actions. The input to this tool is a natural language instruction, for example \"get the latest email from my bank\" or \"send a slack message to the #general channel\". Each tool will have params associated with it that are specified as a list. You MUST take into account the params when creating the instruction. For example, if the params are [\\'Message_Text\\', \\'Channel\\'], your instruction should be something like \\'send a slack message to the #general channel with the text hello world\\'. Another example: if the params are [\\'Calendar\\', \\'Search_Term\\'], your instruction should be something like \\'find the meeting in my personal calendar at 3pm\\'. Do not make up params, they will be explicitly specified in the tool description. If you do not have enough information to fill in the params, just say \\'not enough information provided in the instruction, missing <param>\\'. If you get a none or null response, STOP EXECUTION, do not try to another tool!This tool specifically used for: find email, and has params: [\\'Search_String\\']', api_wrapper=ZapierNLAWrapper(zapier_nla_api_key='sk-ak-gH0EVb9PZHv4vQaEr3mVBePIs8', zapier_nla_oauth_access_token='', zapier_nla_api_base='https://nla.zapier.com/api/v1/'), action_id='15ca0f32-82c7-4373-b477-ce755c4dffa6', zapier_description='find email', params_schema={'Search_String': 'str'})])"
      ]
     },
     "execution_count": 63,
     "metadata": {},
     "output_type": "execute_result"
    }
   ],
   "source": []
  },
  {
   "cell_type": "code",
   "execution_count": null,
   "metadata": {},
   "outputs": [],
   "source": []
  },
  {
   "cell_type": "code",
   "execution_count": null,
   "metadata": {},
   "outputs": [],
   "source": []
  },
  {
   "cell_type": "code",
   "execution_count": null,
   "metadata": {},
   "outputs": [],
   "source": []
  }
 ],
 "metadata": {
  "kernelspec": {
   "display_name": "base",
   "language": "python",
   "name": "python3"
  },
  "language_info": {
   "codemirror_mode": {
    "name": "ipython",
    "version": 3
   },
   "file_extension": ".py",
   "mimetype": "text/x-python",
   "name": "python",
   "nbconvert_exporter": "python",
   "pygments_lexer": "ipython3",
   "version": "3.12.7"
  }
 },
 "nbformat": 4,
 "nbformat_minor": 2
}
